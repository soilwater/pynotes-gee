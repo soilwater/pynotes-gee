{
 "cells": [
  {
   "cell_type": "markdown",
   "metadata": {},
   "source": [
    "# Instructions to install Geo Pandas in Windows\n",
    "\n",
    "I created this notebook to help students install several required packages to conduct geospatial analysis. Particularly the installation of GeoPandas. If you have a Mac or Linux system, then installation many of these packages is as easy as `!pip install geopandas`. If you have a Windows operating system, then follow the steps below.\n",
    "\n",
    "If you have any suggestions for improvement, please let me know.\n",
    "\n",
    "Created by Andres Patrignani (4 April 2022)\n",
    "\n",
    "\n",
    "### Step 1: Save and open this notebook in your Desktop "
   ]
  },
  {
   "cell_type": "markdown",
   "metadata": {},
   "source": [
    "### Step 2: Update your version\n",
    "\n",
    "This step s not critical, but woth trying. If it fails, move on onto the next steps."
   ]
  },
  {
   "cell_type": "code",
   "execution_count": null,
   "metadata": {},
   "outputs": [],
   "source": [
    "!pip install --upgrade --user pip"
   ]
  },
  {
   "cell_type": "markdown",
   "metadata": {},
   "source": [
    "### Step 2: Find your system type (32-bit or 64-bit)\n",
    "\n",
    "Open the `File Explorer`, then go to the `This PC` drive, then right click on the white space (make sure the mouse is not selecting any particular drive that you may have) and select `Properties`. You should see `System` specifications and a linea that says `System type`.\n",
    "\n",
    ">If you can't figure out how to do the steps above, assume that you are running a `64-bit` operating system. That is the default for most computers."
   ]
  },
  {
   "cell_type": "markdown",
   "metadata": {},
   "source": [
    "### Step 3: Find your Python version. "
   ]
  },
  {
   "cell_type": "code",
   "execution_count": null,
   "metadata": {},
   "outputs": [],
   "source": [
    "!python --version"
   ]
  },
  {
   "cell_type": "markdown",
   "metadata": {},
   "source": [
    "Now that you have the type of Windows operating system and the version of Python running in your computer you can follow the next steps.\n",
    "\n",
    "### Step 4: Download GDAL \n",
    "\n",
    "GDAL stands for Geospatial Data Abstraction Library and is a translator library for raster geospatial data formats.\n",
    "\n",
    "Go to this link and download the file matching your operating system and python version: https://www.lfd.uci.edu/~gohlke/pythonlibs/#gdal\n",
    "    \n",
    "For instance, for me I had to download: `GDAL-3.4.2-cp38-cp38-win_amd64`\n",
    "\n",
    "Download and save in your desktop. No need to unzip of extract the files. the `pip` package knows what to do.\n",
    "\n",
    "Source: https://github.com/OSGeo/gdal"
   ]
  },
  {
   "cell_type": "markdown",
   "metadata": {},
   "source": [
    "### Step 4: Install GDAL"
   ]
  },
  {
   "cell_type": "code",
   "execution_count": null,
   "metadata": {},
   "outputs": [],
   "source": [
    "!pip install GDAL-3.4.3-cp39-cp39-win_amd64.whl\n",
    "#!pip install GDAL-3.4.2-cp38-cp38-win_amd64.whl"
   ]
  },
  {
   "cell_type": "markdown",
   "metadata": {},
   "source": [
    "### Step 5: Download Fiona\n",
    "\n",
    "Go to this link and download the file matching your operating system and python version: https://www.lfd.uci.edu/~gohlke/pythonlibs/#fiona\n",
    "\n",
    "For instance, for me I had to download: `Fiona‑1.8.21‑cp38‑cp38‑win_amd64.whl`\n",
    "\n",
    "Download and save in your desktop. No need to unzip of extract the files. the `pip` package knows what to do."
   ]
  },
  {
   "cell_type": "markdown",
   "metadata": {},
   "source": [
    "### Step 6: Install Fiona\n",
    "Fiona reads and writes geographic data files and thereby helps Python programmers integrate geographic information systems with other computer systems. Fiona contains extension modules that link the Geospatial Data Abstraction Library (GDAL).\n",
    "\n",
    "Source: https://github.com/Toblerity/Fiona"
   ]
  },
  {
   "cell_type": "code",
   "execution_count": null,
   "metadata": {},
   "outputs": [],
   "source": [
    "!pip install Fiona-1.8.21-cp39-cp39-win_amd64.whl\n",
    "#!pip install Fiona-1.8.21-cp38-cp38-win_amd64.whl"
   ]
  },
  {
   "cell_type": "markdown",
   "metadata": {},
   "source": [
    "### Step 7 install additional libraries\n",
    "\n",
    "In this case we will install all at once. No need to download anything since the library maintaners provide Windows version of these libraries"
   ]
  },
  {
   "cell_type": "code",
   "execution_count": null,
   "metadata": {},
   "outputs": [],
   "source": [
    "# Install Shapely library\n",
    "!pip install shapely pyproj rtree geopy folium mapclassify"
   ]
  },
  {
   "cell_type": "markdown",
   "metadata": {},
   "source": [
    "It won't hurt to also install the Rasterio library for raster analysis"
   ]
  },
  {
   "cell_type": "code",
   "execution_count": null,
   "metadata": {},
   "outputs": [],
   "source": [
    "# Install rasterio\n",
    "!pip install rasterio\n"
   ]
  },
  {
   "cell_type": "markdown",
   "metadata": {},
   "source": [
    "### Step 8: Install GeoPandas"
   ]
  },
  {
   "cell_type": "code",
   "execution_count": null,
   "metadata": {},
   "outputs": [],
   "source": [
    "!pip install geopandas"
   ]
  },
  {
   "cell_type": "markdown",
   "metadata": {},
   "source": [
    "### Step 9: Reset Python kernel and try to import the Geopands module"
   ]
  },
  {
   "cell_type": "code",
   "execution_count": null,
   "metadata": {},
   "outputs": [],
   "source": [
    "import geopandas as gdf"
   ]
  },
  {
   "cell_type": "code",
   "execution_count": null,
   "metadata": {},
   "outputs": [],
   "source": [
    "# Load some sample data with New York boroughs\n",
    "nybb = gdf.read_file(gdf.datasets.get_path('nybb'))\n",
    "nybb.explore()\n"
   ]
  }
 ],
 "metadata": {
  "kernelspec": {
   "display_name": "Python 3 (ipykernel)",
   "language": "python",
   "name": "python3"
  },
  "language_info": {
   "codemirror_mode": {
    "name": "ipython",
    "version": 3
   },
   "file_extension": ".py",
   "mimetype": "text/x-python",
   "name": "python",
   "nbconvert_exporter": "python",
   "pygments_lexer": "ipython3",
   "version": "3.10.9"
  }
 },
 "nbformat": 4,
 "nbformat_minor": 4
}

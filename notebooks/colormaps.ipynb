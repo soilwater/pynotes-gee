{
 "cells": [
  {
   "cell_type": "raw",
   "id": "5d9c5b01-6931-4d27-8bbc-a7af81245469",
   "metadata": {},
   "source": [
    "---\n",
    "title: \"Colormaps\"\n",
    "author: \"Andres Patrignani\"\n",
    "date: \"3/17/2024\"\n",
    "keywords: [\"gee\", \"colormap\", \"colors\"]\n",
    "---"
   ]
  },
  {
   "cell_type": "markdown",
   "id": "4d06c87c-4675-4570-8553-7d25f907ea9c",
   "metadata": {},
   "source": [
    "If there is one common theme across all the notebooks in this collection is that of colormaps. **A colormaps is sequence of colors, where each color corresponds to a particular data value or range of values**. Colormaps are essential tools in data visualization by enabling the interpretation of numerical data through color. By assigning specific colors to different data ranges, colormaps can highlight variations, patterns, and anomalies in spatial data. For example, in visualizing soil moisture, a colormap might transition from dark red (dry) to white (average moisture) to dark blue (wet) to illustrate soil moisture levels.\n",
    "\n",
    "The structure of a colormap is often defined in terms of RGB (Red, Green, Blue), RGBA (Red, Green, Blue, Alpha), or HEX (hexadecimal) color codes. The alpha channel represents the transparency or opacity of the color.\n",
    "\n",
    "To learn more about colormaps, I suggest checking the [Matplotlib library](https://matplotlib.org/stable/users/explain/colors/colormaps.html)\n",
    "\n",
    "In this tutorial we will learn how to:\n",
    "\n",
    "- Access predefined colormap from the Matplotlib library\n",
    "- Convert colors from the RGB to HEX system\n",
    "- Convert custom color palettes from the HEX to RGB system"
   ]
  },
  {
   "cell_type": "raw",
   "id": "bcc9c3e2-c9bf-4cac-ab4a-e220485ba000",
   "metadata": {},
   "source": [
    "::: {.callout-note}\n",
    "## Note\n",
    "\n",
    "Visualization colormaps in Google Earth Engine need to be provided using the HEX system. To leverage existing colormaps in libraries like Matplotlib, we need to convert them or to create colormaps from scratch. Fortunately, Matplotlib provides the tools for these operations.\n",
    ":::"
   ]
  },
  {
   "cell_type": "code",
   "execution_count": 1,
   "id": "e96148e3-1aa2-4229-bc53-d90aa5279695",
   "metadata": {},
   "outputs": [],
   "source": [
    "# Import modules\n",
    "import numpy as np\n",
    "from matplotlib import colors, colormaps\n"
   ]
  },
  {
   "cell_type": "markdown",
   "id": "6d2bed92-7281-4204-a345-c73ebf117676",
   "metadata": {},
   "source": [
    "## Pre-defined colormaps\n",
    "\n",
    "Let's explore how to get a colormap, how to visualize them, how to reverse a colormap, and how to get a reduced version with fewer colors."
   ]
  },
  {
   "cell_type": "code",
   "execution_count": 9,
   "id": "9699bef3-0bd9-41b8-ab1a-8fabb3ea8ffa",
   "metadata": {},
   "outputs": [
    {
     "data": {
      "image/png": "[encoded data removed]",
      "text/html": [
       "<div style=\"vertical-align: middle;\"><strong>RdBu</strong> </div><div class=\"cmap\"><img alt=\"RdBu colormap\" title=\"RdBu\" style=\"border: 1px solid #555;\" src=\"data:image/png;base64,iVBORw0KGgoAAAANSUhEUgAAAgAAAABACAYAAABsv8+/AAAAE3RFWHRUaXRsZQBSZEJ1IGNvbG9ybWFwChF0kwAAABl0RVh0RGVzY3JpcHRpb24AUmRCdSBjb2xvcm1hcIGj5AsAAAAwdEVYdEF1dGhvcgBNYXRwbG90bGliIHYzLjguMywgaHR0cHM6Ly9tYXRwbG90bGliLm9yZ6qeThwAAAAydEVYdFNvZnR3YXJlAE1hdHBsb3RsaWIgdjMuOC4zLCBodHRwczovL21hdHBsb3RsaWIub3JnhDjROwAAAilJREFUeJzt1jFy2zAURVEQWkiWl/33EZGCgDhCDFEaFSneOQ1NgPiiNZ7x3X6XX62UUmo53LZx3f7L/bfvUWufczsmbX1jW6zXsX+b9utifT5X5/XX88fz5/p8P79HfXpuW6xfPj/tn+95e3muvjnv+j2Ozyl1XMdz762PeeU2rz+fu1z/9j36+db/7spWf7y2xfq5P52vn51fzpnmXb7HcVf2/sM/9+34YS/jfuy3xfNv7ved8/mrzxvv136cNz7nvo/943of8/rAx/1jv8/f24f707x9sT7mXO6X5/vp3Or652L/3n/xqznvz/vwOn0/bbo+1ttifdo/18vz8+3L+dP3v5zTv8+2319e9+V+P39/ff5y3ofnV+8x/t8CAEEEAAAEEgAAEEgAAEAgAQAAgQQAAAQSAAAQSAAAQCABAACBBAAABBIAABBIAABAIAEAAIEEAAAEEgAAEEgAAEAgAQAAgQQAAAQSAAAQSAAAQCABAACBBAAABBIAABBIAABAIAEAAIEEAAAEEgAAEEgAAEAgAQAAgQQAAAQSAAAQSAAAQCABAACBBAAABBIAABBIAABAIAEAAIEEAAAEEgAAEEgAAEAgAQAAgQQAAAQSAAAQSAAAQCABAACBBAAABBIAABBIAABAIAEAAIEEAAAEEgAAEEgAAEAgAQAAgQQAAAQSAAAQSAAAQCABAACBBAAABBIAABBIAABAIAEAAIEEAAAEEgAAEOgv2fZiJGr7/f4AAAAASUVORK5CYII=\"></div><div style=\"vertical-align: middle; max-width: 514px; display: flex; justify-content: space-between;\"><div style=\"float: left;\"><div title=\"#67001fff\" style=\"display: inline-block; width: 1em; height: 1em; margin: 0; vertical-align: middle; border: 1px solid #555; background-color: #67001fff;\"></div> under</div><div style=\"margin: 0 auto; display: inline-block;\">bad <div title=\"#00000000\" style=\"display: inline-block; width: 1em; height: 1em; margin: 0; vertical-align: middle; border: 1px solid #555; background-color: #00000000;\"></div></div><div style=\"float: right;\">over <div title=\"#053061ff\" style=\"display: inline-block; width: 1em; height: 1em; margin: 0; vertical-align: middle; border: 1px solid #555; background-color: #053061ff;\"></div></div>"
      ],
      "text/plain": [
       "<matplotlib.colors.LinearSegmentedColormap at 0x7fc3ee0092d0>"
      ]
     },
     "execution_count": 9,
     "metadata": {},
     "output_type": "execute_result"
    }
   ],
   "source": [
    "# Divergent colormap good for representing soil moisture conditions\n",
    "colormaps.get_cmap('RdBu') # Red-Blue\n"
   ]
  },
  {
   "cell_type": "code",
   "execution_count": 8,
   "id": "49f94756-67bf-49de-b535-3c1429b94437",
   "metadata": {},
   "outputs": [
    {
     "data": {
      "image/png": "[encoded data removed]",
      "text/html": [
       "<div style=\"vertical-align: middle;\"><strong>YlOrBr</strong> </div><div class=\"cmap\"><img alt=\"YlOrBr colormap\" title=\"YlOrBr\" style=\"border: 1px solid #555;\" src=\"data:image/png;base64,iVBORw0KGgoAAAANSUhEUgAAAgAAAABACAYAAABsv8+/AAAAFXRFWHRUaXRsZQBZbE9yQnIgY29sb3JtYXCzto19AAAAG3RFWHREZXNjcmlwdGlvbgBZbE9yQnIgY29sb3JtYXD6IZWZAAAAMHRFWHRBdXRob3IATWF0cGxvdGxpYiB2My44LjMsIGh0dHBzOi8vbWF0cGxvdGxpYi5vcmeqnk4cAAAAMnRFWHRTb2Z0d2FyZQBNYXRwbG90bGliIHYzLjguMywgaHR0cHM6Ly9tYXRwbG90bGliLm9yZ4Q40TsAAAHeSURBVHic7dZLktowAEBBkftfM8cYnEUYUsgo5jer171xWZaE7GLxTtv2extjjLGdx1/b7XU1Pi7j2zx+9Hza7+Hnq/MdPV+d//La8/N5v+3F8bfXT+f/1Pj8ntf5z16/pn1f3efN3/3Y9fI9zovveJ6/25Pzn9538T/ZzT+/db7tOv972u367WD8en+e9jkY/7du2udg/Oic83s9fM7FuXfjj94vzvFj61489/JvOm7vd/PG/XWr9bt51/Wn/+7/8+c73d9vXr+4X77var/dvNP9eZ/+3cU5fg0AIEcAAECQAACAIAEAAEECAACCBAAABAkAAAgSAAAQJAAAIEgAAECQAACAIAEAAEECAACCBAAABAkAAAgSAAAQJAAAIEgAAECQAACAIAEAAEECAACCBAAABAkAAAgSAAAQJAAAIEgAAECQAACAIAEAAEECAACCBAAABAkAAAgSAAAQJAAAIEgAAECQAACAIAEAAEECAACCBAAABAkAAAgSAAAQJAAAIEgAAECQAACAIAEAAEECAACCBAAABAkAAAgSAAAQJAAAIEgAAECQAACAIAEAAEECAACCBAAABAkAAAgSAAAQJAAAIEgAAECQAACAIAEAAEECAACCBAAABAkAAAj6A9Yg3R67d126AAAAAElFTkSuQmCC\"></div><div style=\"vertical-align: middle; max-width: 514px; display: flex; justify-content: space-between;\"><div style=\"float: left;\"><div title=\"#ffffe5ff\" style=\"display: inline-block; width: 1em; height: 1em; margin: 0; vertical-align: middle; border: 1px solid #555; background-color: #ffffe5ff;\"></div> under</div><div style=\"margin: 0 auto; display: inline-block;\">bad <div title=\"#00000000\" style=\"display: inline-block; width: 1em; height: 1em; margin: 0; vertical-align: middle; border: 1px solid #555; background-color: #00000000;\"></div></div><div style=\"float: right;\">over <div title=\"#662506ff\" style=\"display: inline-block; width: 1em; height: 1em; margin: 0; vertical-align: middle; border: 1px solid #555; background-color: #662506ff;\"></div></div>"
      ],
      "text/plain": [
       "<matplotlib.colors.LinearSegmentedColormap at 0x7fc3ee009b10>"
      ]
     },
     "execution_count": 8,
     "metadata": {},
     "output_type": "execute_result"
    }
   ],
   "source": [
    "# Increasing colormap good for representing sand or soil organic carbon  \n",
    "colormaps.get_cmap('YlOrBr') # Yellow-Orange-Brown\n"
   ]
  },
  {
   "cell_type": "code",
   "execution_count": 53,
   "id": "64dc0f61-8a2c-4d10-85c3-657af8232a49",
   "metadata": {},
   "outputs": [
    {
     "data": {
      "image/png": "[encoded data removed]",
      "text/html": [
       "<div style=\"vertical-align: middle;\"><strong>Greens</strong> </div><div class=\"cmap\"><img alt=\"Greens colormap\" title=\"Greens\" style=\"border: 1px solid #555;\" src=\"data:image/png;base64,iVBORw0KGgoAAAANSUhEUgAAAgAAAABACAYAAABsv8+/AAAAFXRFWHRUaXRsZQBHcmVlbnMgY29sb3JtYXAlazwlAAAAG3RFWHREZXNjcmlwdGlvbgBHcmVlbnMgY29sb3JtYXBs/CTBAAAAMHRFWHRBdXRob3IATWF0cGxvdGxpYiB2My44LjMsIGh0dHBzOi8vbWF0cGxvdGxpYi5vcmeqnk4cAAAAMnRFWHRTb2Z0d2FyZQBNYXRwbG90bGliIHYzLjguMywgaHR0cHM6Ly9tYXRwbG90bGliLm9yZ4Q40TsAAAHlSURBVHic7dbLbtNAAEDRgf//XcQG2SygTjypcRwiWNxzNq0zD4+dVrpfvv/4to4xxrquY4wx1vHr54ftehu/jdyPb59f3Ge9++1/7PP43J9/fjT/6XkX18/n/mf3n66X7Xr54/zlYf175i+n510O9jt6nuW5593OOZ3r4Pzze5r3ed/+03Of7r+ff77/2F0/7Pfueb/H53WX523PfzZvf575va/T+qvj43T9e+7z9+f4fHx5+v7X5s3f36v7fMy7/P3N/++3P4Td+7rbYEwH3887XHcyfrTf7cFeXPfaOb8OACBHAABAkAAAgCABAABBAgAAggQAAAQJAAAIEgAAECQAACBIAABAkAAAgCABAABBAgAAggQAAAQJAAAIEgAAECQAACBIAABAkAAAgCABAABBAgAAggQAAAQJAAAIEgAAECQAACBIAABAkAAAgCABAABBAgAAggQAAAQJAAAIEgAAECQAACBIAABAkAAAgCABAABBAgAAggQAAAQJAAAIEgAAECQAACBIAABAkAAAgCABAABBAgAAggQAAAQJAAAIEgAAECQAACBIAABAkAAAgCABAABBAgAAggQAAAQJAAAIEgAAECQAACBIAABAkAAAgCABAABBAgAAggQAAAQJAAAI+gkQGk78tuE8FwAAAABJRU5ErkJggg==\"></div><div style=\"vertical-align: middle; max-width: 514px; display: flex; justify-content: space-between;\"><div style=\"float: left;\"><div title=\"#f7fcf5ff\" style=\"display: inline-block; width: 1em; height: 1em; margin: 0; vertical-align: middle; border: 1px solid #555; background-color: #f7fcf5ff;\"></div> under</div><div style=\"margin: 0 auto; display: inline-block;\">bad <div title=\"#00000000\" style=\"display: inline-block; width: 1em; height: 1em; margin: 0; vertical-align: middle; border: 1px solid #555; background-color: #00000000;\"></div></div><div style=\"float: right;\">over <div title=\"#00441bff\" style=\"display: inline-block; width: 1em; height: 1em; margin: 0; vertical-align: middle; border: 1px solid #555; background-color: #00441bff;\"></div></div>"
      ],
      "text/plain": [
       "<matplotlib.colors.LinearSegmentedColormap at 0x7fc3ee018c10>"
      ]
     },
     "execution_count": 53,
     "metadata": {},
     "output_type": "execute_result"
    }
   ],
   "source": [
    "# Monochrome colormaps\n",
    "colormaps.get_cmap('Greens') # Can also try Reds, Blues\n"
   ]
  },
  {
   "cell_type": "code",
   "execution_count": 12,
   "id": "1c8615d2-fb69-472b-b6b5-013e9c7d80ef",
   "metadata": {},
   "outputs": [
    {
     "data": {
      "image/png": "[encoded data removed]",
      "text/html": [
       "<div style=\"vertical-align: middle;\"><strong>Set1</strong> </div><div class=\"cmap\"><img alt=\"Set1 colormap\" title=\"Set1\" style=\"border: 1px solid #555;\" src=\"data:image/png;base64,iVBORw0KGgoAAAANSUhEUgAAAgAAAABACAYAAABsv8+/AAAAE3RFWHRUaXRsZQBTZXQxIGNvbG9ybWFwG6zH/AAAABl0RVh0RGVzY3JpcHRpb24AU2V0MSBjb2xvcm1hcJAeV2QAAAAwdEVYdEF1dGhvcgBNYXRwbG90bGliIHYzLjguMywgaHR0cHM6Ly9tYXRwbG90bGliLm9yZ6qeThwAAAAydEVYdFNvZnR3YXJlAE1hdHBsb3RsaWIgdjMuOC4zLCBodHRwczovL21hdHBsb3RsaWIub3JnhDjROwAAAXJJREFUeJzt1rFJA2AYAFF1CBHJBlbBMazEQlKkE7JGZrCxCQRs3MnaFax1it8PvPcmuPIuv243Pxf/3NPLaTphuevt63TCcg/n3XTCcoftfjphreP9dMFyH8/f0wnLPd69TScs937zOZ2w3NV0AADw9wwAAAQZAAAIMgAAEGQAACDIAABAkAEAgCADAABBBgAAggwAAAQZAAAIMgAAEGQAACDIAABAkAEAgCADAABBBgAAggwAAAQZAAAIMgAAEGQAACDIAABAkAEAgCADAABBBgAAggwAAAQZAAAIMgAAEGQAACDIAABAkAEAgCADAABBBgAAggwAAAQZAAAIMgAAEGQAACDIAABAkAEAgCADAABBBgAAggwAAAQZAAAIMgAAEGQAACDIAABAkAEAgCADAABBBgAAggwAAAQZAAAIMgAAEGQAACDIAABAkAEAgCADAABBBgAAggwAAAQZAAAIMgAAEGQAACDIAABAkAEAgKBfc6EMSuFnNvgAAAAASUVORK5CYII=\"></div><div style=\"vertical-align: middle; max-width: 514px; display: flex; justify-content: space-between;\"><div style=\"float: left;\"><div title=\"#e41a1cff\" style=\"display: inline-block; width: 1em; height: 1em; margin: 0; vertical-align: middle; border: 1px solid #555; background-color: #e41a1cff;\"></div> under</div><div style=\"margin: 0 auto; display: inline-block;\">bad <div title=\"#00000000\" style=\"display: inline-block; width: 1em; height: 1em; margin: 0; vertical-align: middle; border: 1px solid #555; background-color: #00000000;\"></div></div><div style=\"float: right;\">over <div title=\"#999999ff\" style=\"display: inline-block; width: 1em; height: 1em; margin: 0; vertical-align: middle; border: 1px solid #555; background-color: #999999ff;\"></div></div>"
      ],
      "text/plain": [
       "<matplotlib.colors.ListedColormap at 0x7fc3ee00ae00>"
      ]
     },
     "execution_count": 12,
     "metadata": {},
     "output_type": "execute_result"
    }
   ],
   "source": [
    "# Discrete colormap good for representing categorical variables,\n",
    "# like soil textural classes.\n",
    "colormaps.get_cmap('Set1')\n"
   ]
  },
  {
   "cell_type": "code",
   "execution_count": 15,
   "id": "a5f80d8e-5b8f-4ed6-b18d-a3e7395f8093",
   "metadata": {},
   "outputs": [
    {
     "data": {
      "image/png": "[encoded data removed]",
      "text/html": [
       "<div style=\"vertical-align: middle;\"><strong>Spectral_r</strong> </div><div class=\"cmap\"><img alt=\"Spectral_r colormap\" title=\"Spectral_r\" style=\"border: 1px solid #555;\" src=\"data:image/png;base64,iVBORw0KGgoAAAANSUhEUgAAAgAAAABACAYAAABsv8+/AAAAGXRFWHRUaXRsZQBTcGVjdHJhbF9yIGNvbG9ybWFwkgoEDgAAAB90RVh0RGVzY3JpcHRpb24AU3BlY3RyYWxfciBjb2xvcm1hcOgixUAAAAAwdEVYdEF1dGhvcgBNYXRwbG90bGliIHYzLjguMywgaHR0cHM6Ly9tYXRwbG90bGliLm9yZ6qeThwAAAAydEVYdFNvZnR3YXJlAE1hdHBsb3RsaWIgdjMuOC4zLCBodHRwczovL21hdHBsb3RsaWIub3JnhDjROwAAAg5JREFUeJzt1kFuqzAARVGbLPDvoIvrPrH/IFAJE5emoqN3zsSywSYkVXXrx7/PXkopbanl1dj3+eO963087/L68v31fX3yOfaxPkoppZRl6a/Hx9X6ZP9s34/Pfe/6Y3+Pus2fr/c1LsP8av3X+5bf7Tuv98P6+F7LcP18/zaWd/fdfX/ZbH9v5fkF1TrM9+v1Yj7bf3nePc8t2/dZenuOrR3ns/Gu+25+Xm/D/a0P879ev+fc/rW+jWs/vt86rh/n+76+tmH+N+de3X/++eph3oZ57/Xl/W2yf79/ev30vO+fM/tcp59vf7/19Xwd3r+tF/Pt/nVyXpuct16cN9u//xcAAIIIAAAIJAAAIJAAAIBAAgAAAgkAAAgkAAAgkAAAgEACAAACCQAACCQAACCQAACAQAIAAAIJAAAIJAAAIJAAAIBAAgAAAgkAAAgkAAAgkAAAgEACAAACCQAACCQAACCQAACAQAIAAAIJAAAIJAAAIJAAAIBAAgAAAgkAAAgkAAAgkAAAgEACAAACCQAACCQAACCQAACAQAIAAAIJAAAIJAAAIJAAAIBAAgAAAgkAAAgkAAAgkAAAgEACAAACCQAACCQAACCQAACAQAIAAAIJAAAIJAAAIJAAAIBAAgAAAgkAAAgkAAAgkAAAgEACAAACCQAACCQAACCQAACAQAIAAAIJAAAIJAAAINB/npFUbzglSzQAAAAASUVORK5CYII=\"></div><div style=\"vertical-align: middle; max-width: 514px; display: flex; justify-content: space-between;\"><div style=\"float: left;\"><div title=\"#5e4fa2ff\" style=\"display: inline-block; width: 1em; height: 1em; margin: 0; vertical-align: middle; border: 1px solid #555; background-color: #5e4fa2ff;\"></div> under</div><div style=\"margin: 0 auto; display: inline-block;\">bad <div title=\"#00000000\" style=\"display: inline-block; width: 1em; height: 1em; margin: 0; vertical-align: middle; border: 1px solid #555; background-color: #00000000;\"></div></div><div style=\"float: right;\">over <div title=\"#9e0142ff\" style=\"display: inline-block; width: 1em; height: 1em; margin: 0; vertical-align: middle; border: 1px solid #555; background-color: #9e0142ff;\"></div></div>"
      ],
      "text/plain": [
       "<matplotlib.colors.LinearSegmentedColormap at 0x7fc3ee0082e0>"
      ]
     },
     "execution_count": 15,
     "metadata": {},
     "output_type": "execute_result"
    }
   ],
   "source": [
    "# Reverse a colormap with \"_r\" (run code again removing \"_r\")\n",
    "colormaps.get_cmap('Spectral_r')\n"
   ]
  },
  {
   "cell_type": "code",
   "execution_count": 20,
   "id": "f10573c8-8b8f-4723-8282-443d2bb1877a",
   "metadata": {},
   "outputs": [
    {
     "name": "stdout",
     "output_type": "stream",
     "text": [
      "256\n"
     ]
    }
   ],
   "source": [
    "# Get number of colors in colormap\n",
    "print(colormaps.get_cmap('Spectral').N)\n"
   ]
  },
  {
   "cell_type": "code",
   "execution_count": 19,
   "id": "3661d37f-5627-4117-bcec-f3b14841c0ad",
   "metadata": {},
   "outputs": [
    {
     "data": {
      "image/png": "[encoded data removed]",
      "text/html": [
       "<div style=\"vertical-align: middle;\"><strong>Spectral</strong> </div><div class=\"cmap\"><img alt=\"Spectral colormap\" title=\"Spectral\" style=\"border: 1px solid #555;\" src=\"data:image/png;base64,iVBORw0KGgoAAAANSUhEUgAAAgAAAABACAYAAABsv8+/AAAAF3RFWHRUaXRsZQBTcGVjdHJhbCBjb2xvcm1hcI/oV9sAAAAddEVYdERlc2NyaXB0aW9uAFNwZWN0cmFsIGNvbG9ybWFwppaw8gAAADB0RVh0QXV0aG9yAE1hdHBsb3RsaWIgdjMuOC4zLCBodHRwczovL21hdHBsb3RsaWIub3Jnqp5OHAAAADJ0RVh0U29mdHdhcmUATWF0cGxvdGxpYiB2My44LjMsIGh0dHBzOi8vbWF0cGxvdGxpYi5vcmeEONE7AAABd0lEQVR4nO3WMS6EYRRAUb9Iphi1UidKzRSiHPu0DTWFzio0Cp1CI2ETX7zEPWcFt7zbw3b8OflH7o776YRlLm+/pxOW2d1fTScss90cphOW+TzfTScs8/rxNZ2wzOPb2XTCMs8vF9MJy1w/vU8nLHU6HQAA/D0DAABBBgAAggwAAAQZAAAIMgAAEGQAACDIAABAkAEAgCADAABBBgAAggwAAAQZAAAIMgAAEGQAACDIAABAkAEAgCADAABBBgAAggwAAAQZAAAIMgAAEGQAACDIAABAkAEAgCADAABBBgAAggwAAAQZAAAIMgAAEGQAACDIAABAkAEAgCADAABBBgAAggwAAAQZAAAIMgAAEGQAACDIAABAkAEAgCADAABBBgAAggwAAAQZAAAIMgAAEGQAACDIAABAkAEAgCADAABBBgAAggwAAAQZAAAIMgAAEGQAACDIAABAkAEAgCADAABBBgAAggwAAAQZAAAIMgAAEGQAACDoF53eDc5rMSEgAAAAAElFTkSuQmCC\"></div><div style=\"vertical-align: middle; max-width: 514px; display: flex; justify-content: space-between;\"><div style=\"float: left;\"><div title=\"#9e0142ff\" style=\"display: inline-block; width: 1em; height: 1em; margin: 0; vertical-align: middle; border: 1px solid #555; background-color: #9e0142ff;\"></div> under</div><div style=\"margin: 0 auto; display: inline-block;\">bad <div title=\"#00000000\" style=\"display: inline-block; width: 1em; height: 1em; margin: 0; vertical-align: middle; border: 1px solid #555; background-color: #00000000;\"></div></div><div style=\"float: right;\">over <div title=\"#5e4fa2ff\" style=\"display: inline-block; width: 1em; height: 1em; margin: 0; vertical-align: middle; border: 1px solid #555; background-color: #5e4fa2ff;\"></div></div>"
      ],
      "text/plain": [
       "<matplotlib.colors.LinearSegmentedColormap at 0x7fc3edf231f0>"
      ]
     },
     "execution_count": 19,
     "metadata": {},
     "output_type": "execute_result"
    }
   ],
   "source": [
    "# Resample to select fewer colors\n",
    "colormaps.get_cmap('Spectral').resampled(10)\n"
   ]
  },
  {
   "cell_type": "code",
   "execution_count": 29,
   "id": "0b5df09e-fe70-4cff-84d9-87b19282edcc",
   "metadata": {},
   "outputs": [
    {
     "name": "stdout",
     "output_type": "stream",
     "text": [
      "<class 'matplotlib.colors.LinearSegmentedColormap'>\n",
      "(0.6196078431372549, 0.00392156862745098, 0.25882352941176473, 1.0)\n",
      "(0.9978213507625272, 0.9324618736383442, 0.6357298474945533, 1.0)\n",
      "(0.3686274509803922, 0.30980392156862746, 0.6352941176470588, 1.0)\n"
     ]
    }
   ],
   "source": [
    "# Access single color\n",
    "\n",
    "# First save the colormap into a variable\n",
    "cmap = colormaps.get_cmap('Spectral').resampled(10)\n",
    "\n",
    "# Explore cmap data type (note that this is not a list)\n",
    "print(type(cmap))\n",
    "\n",
    "# Access the first color\n",
    "print(cmap(0))\n",
    "\n",
    "# Access the fifth color\n",
    "print(cmap(4))\n",
    "\n",
    "# Access the last color\n",
    "print(cmap(cmap.N))\n"
   ]
  },
  {
   "cell_type": "markdown",
   "id": "ecbc527b-a337-467c-9f20-c6699507b734",
   "metadata": {},
   "source": [
    "Note that the outputs of the colormap are on a scale of 0 to 1 rather than on a scale 0 to 255. Representing RGB colors using the 0 to 1 scale enables a more precise specification of color values, simpler calculations for gradients and blending of colors, compatibility with libraries, and a more intuitive represention of the scale of a given color (easier to understand that 0 to 1 than 0 to 255)."
   ]
  },
  {
   "cell_type": "markdown",
   "id": "42d53ee7-be4f-41b9-bc10-0928c3c00754",
   "metadata": {},
   "source": [
    "## RGB to HEX\n",
    "\n",
    "As mentioned earlier, we need to pass colormaps in the HEX system to GEE. Let's practice this."
   ]
  },
  {
   "cell_type": "code",
   "execution_count": 32,
   "id": "a06ff75c-a509-4421-acb6-08b3d62787ce",
   "metadata": {},
   "outputs": [
    {
     "name": "stdout",
     "output_type": "stream",
     "text": [
      "['#000004', '#2c115f', '#721f81', '#b5367a', '#f1605d', '#feae77', '#fcfdbf']\n"
     ]
    }
   ],
   "source": [
    "# Get colormap from Matplotlib\n",
    "rgb_cmap = colormaps.get_cmap('magma')\n",
    "\n",
    "# Define number of colors \n",
    "n = 7 # Use rgb_cmap.N for all the colors\n",
    "\n",
    "# Split the cmap \"n\" colors. Here we create the index values\n",
    "rgb_index = np.linspace(0, rgb_cmap.N-1, n).astype(int)\n",
    "\n",
    "# Create a list of HEX colors\n",
    "hex_cmap = [colors.rgb2hex(rgb_cmap(k)) for k in rgb_index]\n",
    "\n",
    "print(hex_cmap)\n"
   ]
  },
  {
   "cell_type": "markdown",
   "id": "af1765b7-a330-4f5c-8015-b68742a31640",
   "metadata": {},
   "source": [
    "## Create a helper function \n",
    "\n",
    "This will be handy to re-use our code in other tutorials or projects."
   ]
  },
  {
   "cell_type": "code",
   "execution_count": 72,
   "id": "8b6fc9fa-df9d-46a3-8173-c22a7b1d08a3",
   "metadata": {},
   "outputs": [],
   "source": [
    "# Define function to retrieve colormaps\n",
    "def get_hex_cmap(name,n=10):\n",
    "    \"\"\"\n",
    "    Function to get list of HEX colors from a Matplotlib colormap.\n",
    "    \"\"\"\n",
    "    rgb_cmap = colormaps.get_cmap(name)\n",
    "    if n > rgb_cmap.N-1:\n",
    "        raise ValueError(f\"You select {n} colors, but {name} colormap only has {rgb_cmap.N} colors.\")\n",
    "    else:\n",
    "        rgb_index = np.linspace(0, rgb_cmap.N-1, n).astype(int)\n",
    "        hex_cmap = [colors.rgb2hex(rgb_cmap(k)) for k in rgb_index]\n",
    "        return hex_cmap \n"
   ]
  },
  {
   "cell_type": "code",
   "execution_count": 73,
   "id": "05820d9f-0e42-42b5-a1e5-2195dabb183c",
   "metadata": {},
   "outputs": [
    {
     "data": {
      "text/plain": [
       "['#e41a1c', '#377eb8', '#4daf4a', '#ff7f00', '#ffff33', '#a65628', '#999999']"
      ]
     },
     "execution_count": 73,
     "metadata": {},
     "output_type": "execute_result"
    }
   ],
   "source": [
    "# Test function\n",
    "get_hex_cmap('Set1', n=7)"
   ]
  },
  {
   "cell_type": "markdown",
   "id": "acf8fb07-5716-471f-b8d5-1b4171c7b529",
   "metadata": {},
   "source": [
    "## HEX to RGB colors\n",
    "\n",
    "This conversion sometimes becomes necessary for leveraging Python libraries, such as Rasterio, to generate local maps. For example, when consulting GEE documentation to construct a vegetation index map, you will probably encounter colormaps specified in HEX format. This assumes the use of GEE's plotting tools. However, to employ the same colormap with alternative Python libraries that operate in the RGB color system, a conversion from HEX to RGB can be useful."
   ]
  },
  {
   "cell_type": "code",
   "execution_count": 64,
   "id": "3dc77fa0-78e2-43b7-a526-d675ab3f2098",
   "metadata": {},
   "outputs": [],
   "source": [
    "# Paletter of colors for the Enhanced Vegetation Index\n",
    "hex_palette = ['#FEFEFE','#CE7E45', '#DF923D', '#F1B555', '#FCD163', '#99B718', '#74A901',\n",
    "             '#66A000', '#529400', '#3E8601', '#207401', '#056201', '#004C00', '#023B01',\n",
    "             '#012E01', '#011D01', '#011301']\n",
    "\n",
    "# Use the built-in ListedColormap function to do the conversion\n",
    "rgb_cmap = colors.ListedColormap(hex_palette)\n"
   ]
  },
  {
   "cell_type": "code",
   "execution_count": 65,
   "id": "61a6c481-4c26-4b4e-9abd-9f6ca9f24f64",
   "metadata": {},
   "outputs": [
    {
     "data": {
      "image/png": "[encoded data removed]",
      "text/html": [
       "<div style=\"vertical-align: middle;\"><strong>from_list</strong> </div><div class=\"cmap\"><img alt=\"from_list colormap\" title=\"from_list\" style=\"border: 1px solid #555;\" src=\"data:image/png;base64,iVBORw0KGgoAAAANSUhEUgAAAgAAAABACAYAAABsv8+/AAAAGHRFWHRUaXRsZQBmcm9tX2xpc3QgY29sb3JtYXBDL89FAAAAHnRFWHREZXNjcmlwdGlvbgBmcm9tX2xpc3QgY29sb3JtYXABtCnOAAAAMHRFWHRBdXRob3IATWF0cGxvdGxpYiB2My44LjMsIGh0dHBzOi8vbWF0cGxvdGxpYi5vcmeqnk4cAAAAMnRFWHRTb2Z0d2FyZQBNYXRwbG90bGliIHYzLjguMywgaHR0cHM6Ly9tYXRwbG90bGliLm9yZ4Q40TsAAAGJSURBVHic7daxSQRAFEXRWVNBUAwMzCzGtmzEMuzD3ExQUBYXVlFB2LWMH9xzGnjB/IG7ORwOxzXk8e52ZPf88ndk9+LmamT39PpsZPf+9WFk92n/NrK7/5n5Stuvkdm13W9Gdp8/RmbXy9Du3/vMXZ3sZt73+Dkyu9ZuaPd7aHetdTI3DQBMEQAAECQAACBIAABAkAAAgCABAABBAgAAggQAAAQJAAAIEgAAECQAACBIAABAkAAAgCABAABBAgAAggQAAAQJAAAIEgAAECQAACBIAABAkAAAgCABAABBAgAAggQAAAQJAAAIEgAAECQAACBIAABAkAAAgCABAABBAgAAggQAAAQJAAAIEgAAECQAACBIAABAkAAAgCABAABBAgAAggQAAAQJAAAIEgAAECQAACBIAABAkAAAgCABAABBAgAAggQAAAQJAAAIEgAAECQAACBIAABAkAAAgCABAABBAgAAggQAAAQJAAAIEgAAECQAACBIAABAkAAAgCABAABBAgAAgv4BInwelACOPFQAAAAASUVORK5CYII=\"></div><div style=\"vertical-align: middle; max-width: 514px; display: flex; justify-content: space-between;\"><div style=\"float: left;\"><div title=\"#fefefeff\" style=\"display: inline-block; width: 1em; height: 1em; margin: 0; vertical-align: middle; border: 1px solid #555; background-color: #fefefeff;\"></div> under</div><div style=\"margin: 0 auto; display: inline-block;\">bad <div title=\"#00000000\" style=\"display: inline-block; width: 1em; height: 1em; margin: 0; vertical-align: middle; border: 1px solid #555; background-color: #00000000;\"></div></div><div style=\"float: right;\">over <div title=\"#011301ff\" style=\"display: inline-block; width: 1em; height: 1em; margin: 0; vertical-align: middle; border: 1px solid #555; background-color: #011301ff;\"></div></div>"
      ],
      "text/plain": [
       "<matplotlib.colors.ListedColormap at 0x7fc3ed17fa90>"
      ]
     },
     "execution_count": 65,
     "metadata": {},
     "output_type": "execute_result"
    }
   ],
   "source": [
    "# Display our new colormap\n",
    "rgb_cmap"
   ]
  },
  {
   "cell_type": "markdown",
   "id": "c028a37f-0f52-4cbc-b4d9-1cfbe7810272",
   "metadata": {},
   "source": [
    "## RGB and HEX in more depth\n",
    "\n",
    "If you made this far, let's delve into the workings of the RGB and HEX color systems for enhanced understanding. The RGB color space specifies colors using three components: red, green, and blue, each varying from 0 to 255, or occasionally from 0 to 1 as demonstrated by Matplotlib's output. \n",
    "\n",
    "In contrast, the HEX system employs six-digit hexadecimal numbers preceded by a hash (#), with each digit pair denoting the red, green, and blue components. For example, white is expressed as `(255, 255, 255)` in RGB and `#ffffff` in HEX. Consequently, the RGB system offers 256 intensity levels per component, totaling over 16 million possible colors ($256^3$ = 16.7 million).\n",
    "\n",
    "Let's look at some examples. Green is depicted as `(0, 255, 0)` or `(0, 1, 0)` in RGB and as `#00ff00` in HEX. Here, `00` signifies the minimum intensity, while `ff` denotes the maximum intensity. So `ff` is equivalent to `255` or `1`. Utilizing ten numeric (0 to 9) and six alphabetic (*a* through *f*) characters results in 16 alphanumeric digits. Given that $\\sqrt{256} = 16$, two characters are required to represent 256 combinations, with `00` for `0`, `01` for `1`, and so forth until `fe` for `254`, and `ff` for `255`."
   ]
  },
  {
   "cell_type": "code",
   "execution_count": 71,
   "id": "557e8807-6125-44cd-a194-a7aee0e25791",
   "metadata": {},
   "outputs": [
    {
     "name": "stdout",
     "output_type": "stream",
     "text": [
      "Scale 0-1: [0.99607843 0.99607843 0.99607843 1.        ]\n",
      "Scale 0-255: [254 254 254 255]\n"
     ]
    }
   ],
   "source": [
    "# Recall our description of the HEX system above.\n",
    "# Show that the first color (index zero) \"#FEFEFE\" is (254, 254, 254)\n",
    "\n",
    "print('Scale 0-1:', np.array(rgb_cmap(0)))\n",
    "print('Scale 0-255:', (np.array(rgb_cmap(0))*255).astype(int))\n",
    "\n",
    "# The alpha channel does not have any transparency, so it has a value of 1 or 255"
   ]
  }
 ],
 "metadata": {
  "kernelspec": {
   "display_name": "Python 3 (ipykernel)",
   "language": "python",
   "name": "python3"
  },
  "language_info": {
   "codemirror_mode": {
    "name": "ipython",
    "version": 3
   },
   "file_extension": ".py",
   "mimetype": "text/x-python",
   "name": "python",
   "nbconvert_exporter": "python",
   "pygments_lexer": "ipython3",
   "version": "3.10.9"
  }
 },
 "nbformat": 4,
 "nbformat_minor": 5
}

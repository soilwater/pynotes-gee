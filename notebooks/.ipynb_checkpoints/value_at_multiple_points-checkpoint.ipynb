{
 "cells": [
  {
   "cell_type": "raw",
   "id": "20d803b4-0acc-4020-8f5a-2af59a2fa2d5",
   "metadata": {},
   "source": [
    "---\n",
    "title: \"Value for multiple points\"\n",
    "author: \"Andres Patrignani\"\n",
    "date: \"1/26/2024\"\n",
    "keywords: [\"points\", \"mesonet\", \"soil properties\",\"sand\",\"clay\",\"polaris\",\"soil grids\"]\n",
    "---"
   ]
  },
  {
   "cell_type": "markdown",
   "id": "0f5ac821-6813-4a9a-a2d2-c51177daf807",
   "metadata": {},
   "source": [
    "In the previous tutorial we learned how to retrieve a single value for a point, but often times we are interested in querying values for multiple points or locations in space. To illustrate this workflow, we will create a `for` loop based on the previous tutorial. \n",
    "\n",
    "In this example we will retrieve soil physical properties, including sand and clay content for several stations of the Kansas Mesonet (https://mesonet.k-state.edu). Soil physical properties like sand and clay percentage are easy to measure and can be used to estimate other soil physical properties that are more difficult to measure, like water holding capacity. To compare different gridded products, we will use the SoilGrids and the Polaris datasets.\n",
    "\n",
    "If you want to learn more about the network and the soil physical properties I recommend reading the following two peer-reviewed articles: Parker et al. (2022) and Patrignani et al. (2020)\n"
   ]
  },
  {
   "cell_type": "code",
   "execution_count": 56,
   "id": "4b7609f8-f6a4-43c6-8124-c4ab48bbdfea",
   "metadata": {},
   "outputs": [],
   "source": [
    "# Import modules\n",
    "import ee\n",
    "import pandas as pd\n",
    "import matplotlib.pyplot as plt\n"
   ]
  },
  {
   "cell_type": "code",
   "execution_count": 4,
   "id": "58db8c0a-7b85-4baa-9ee0-630e4589e350",
   "metadata": {},
   "outputs": [],
   "source": [
    "# Authenticate\n",
    "#ee.Authenticate()\n",
    "\n",
    "# Initialize the library.\n",
    "ee.Initialize()"
   ]
  },
  {
   "cell_type": "markdown",
   "id": "94fd99f6-2a45-45fb-919a-e43ff1b2ab6a",
   "metadata": {},
   "source": [
    "## Load GEE datasets"
   ]
  },
  {
   "cell_type": "code",
   "execution_count": 52,
   "id": "35c81d9c-bad5-4e6b-aa47-c8313053789c",
   "metadata": {},
   "outputs": [],
   "source": [
    "# Load the SoilGrids dataset from GEE\n",
    "soilgrids_sand = ee.Image(\"projects/soilgrids-isric/sand_mean\")\n",
    "soilgrids_clay = ee.Image(\"projects/soilgrids-isric/clay_mean\")\n",
    "\n",
    "# Load Polaris dataset\n",
    "# Note: It's easier to load the image than the ImageCollection.\n",
    "# Check the 'id' of each feature in the ImageCollection to get the link for the Image\n",
    "# Code for ImageCollection: ee.ImageCollection('projects/sat-io/open-datasets/polaris/sand_mean')\n",
    "polaris_sand = ee.Image('projects/sat-io/open-datasets/polaris/sand_mean/sand_0_5')\n",
    "polaris_clay = ee.Image('projects/sat-io/open-datasets/polaris/clay_mean/clay_0_5')\n"
   ]
  },
  {
   "cell_type": "markdown",
   "id": "490f0515-0fc6-458e-a349-84f26df8d61c",
   "metadata": {},
   "source": [
    "Before requesting data using the loaded GEE products, it is necessary to understand the nature of these datasets:\n",
    "\n",
    "#### Soil Grids\n",
    "\n",
    "This dataset has a 250-meter spatial resolution (Poggio et al., 2021) and returns an image, where each band represents a depth for the given variable.  After sampling the image, GEE returns a FeatureCollection with a single feature (we the `.first()` function to access this information). Run this line of code to inspect the output:\n",
    "\n",
    "```python\n",
    "soilgrids_sand.getInfo()\n",
    "```\n",
    "\n",
    "#### Polaris\n",
    "\n",
    "This dataset has a spatial resolution of 30-meters (Chaney et al., 2019). The way we are calling this dataset it returns an Image, where each band represents a depth for a given variable. Again, after sampling the image, GEE returns a FeatureCollection with a single feature (we the `.first()` function to access this information).Run this line of code to inspect the output:\n",
    "\n",
    "```python\n",
    "polaris_clay.getInfo()\n",
    "```\n",
    "\n",
    "\n",
    "Different teams aggregate data using different structures, so before using these or any other products available in GEE is important to read the documentation and inspect the data with a few examples."
   ]
  },
  {
   "cell_type": "markdown",
   "id": "bc67979e-2b3b-4443-a8c6-298b978e239b",
   "metadata": {},
   "source": [
    "## Station data"
   ]
  },
  {
   "cell_type": "code",
   "execution_count": 17,
   "id": "c1eca64a-5b08-4455-9381-9e2691db281e",
   "metadata": {},
   "outputs": [],
   "source": [
    "# Create dictionary with station metadata\n",
    "\n",
    "stations = [\n",
    "    {'name': 'Ashland Bottoms', 'latitude': 39.125773, 'longitude': -96.63653},\n",
    "    {'name': 'Belleville 2W', 'latitude': 39.81409, 'longitude': -97.675093},\n",
    "    {'name': 'Colby', 'latitude': 39.39247, 'longitude': -101.06864},\n",
    "    {'name': 'Garden City', 'latitude': 37.99733, 'longitude': -100.81514},\n",
    "    {'name': 'Gypsum', 'latitude': 38.72522, 'longitude': -97.44415},\n",
    "    {'name': 'Hutchinson 10SW', 'latitude': 37.93097, 'longitude': -98.02},\n",
    "    {'name': 'Manhattan', 'latitude': 39.20857, 'longitude': -96.59169},\n",
    "    {'name': 'Ottawa 2SE', 'latitude': 38.54268, 'longitude': -95.24647},\n",
    "    {'name': 'Parsons', 'latitude': 37.36875, 'longitude': -95.28771},\n",
    "    {'name': 'Rossville 2SE', 'latitude': 39.11661, 'longitude': -95.91572},\n",
    "    {'name': 'Silver Lake 4E', 'latitude': 39.09213, 'longitude': -95.78153},\n",
    "    {'name': 'Tribune 6NE', 'latitude': 38.53041, 'longitude': -101.66434},\n",
    "    {'name': 'Woodson', 'latitude': 37.8612, 'longitude': -95.7836}\n",
    "]\n"
   ]
  },
  {
   "cell_type": "markdown",
   "id": "773dd504-5ffd-4119-8ce9-964578139ba6",
   "metadata": {},
   "source": [
    "## Request soil data for each station"
   ]
  },
  {
   "cell_type": "code",
   "execution_count": 63,
   "id": "d5dc58b3-286e-44e4-a9ad-ddb063635845",
   "metadata": {},
   "outputs": [
    {
     "name": "stdout",
     "output_type": "stream",
     "text": [
      "Requesting data for Ashland Bottoms\n",
      "Requesting data for Belleville 2W\n",
      "Requesting data for Colby\n",
      "Requesting data for Garden City\n",
      "Requesting data for Gypsum\n",
      "Requesting data for Hutchinson 10SW\n",
      "Requesting data for Manhattan\n",
      "Requesting data for Ottawa 2SE\n",
      "Requesting data for Parsons\n",
      "Requesting data for Rossville 2SE\n",
      "Requesting data for Silver Lake 4E\n",
      "Requesting data for Tribune 6NE\n",
      "Requesting data for Woodson\n"
     ]
    }
   ],
   "source": [
    "# We will retrieve both datasets at 250-meter resolution to match the \n",
    "# coarser dataset.\n",
    "\n",
    "# Iterate over each station metadata\n",
    "for k,station in enumerate(stations):\n",
    "    \n",
    "    # Display current state of the loop\n",
    "    print(f\"Requesting data for {station['name']}\")\n",
    "    \n",
    "    # Convert geographic coordinates into a Point geometry\n",
    "    # following the x,y notation\n",
    "    point = ee.Geometry.Point([station['longitude'], station['latitude']])\n",
    "    \n",
    "    # Soil Grids: Sample image and then select first and only feature with property value\n",
    "    stations[k]['sand_soilgrids'] = soilgrids_sand.sample(point, 250).first().getNumber('sand_0-5cm_mean').multiply(0.1).getInfo()\n",
    "    stations[k]['clay_soilgrids'] = soilgrids_clay.sample(point, 250).first().getNumber('clay_0-5cm_mean').multiply(0.1).getInfo()\n",
    "\n",
    "    # Polaris: Sample image and then select first and only feature with property value\n",
    "    stations[k]['sand_polaris'] = polaris_sand.sample(point, 250).first().getNumber('b1').getInfo()\n",
    "    stations[k]['clay_polaris'] = polaris_clay.sample(point, 250).first().getNumber('b1').getInfo()\n",
    "    \n",
    "    "
   ]
  },
  {
   "cell_type": "markdown",
   "id": "2f76fa80-f410-4465-afa7-bd1569fcdacb",
   "metadata": {},
   "source": [
    "## Create DataFrame"
   ]
  },
  {
   "cell_type": "code",
   "execution_count": 66,
   "id": "1631ded4-3ceb-4157-8b15-e95b9afb9f95",
   "metadata": {},
   "outputs": [
    {
     "data": {
      "text/html": [
       "<div>\n",
       "<style scoped>\n",
       "    .dataframe tbody tr th:only-of-type {\n",
       "        vertical-align: middle;\n",
       "    }\n",
       "\n",
       "    .dataframe tbody tr th {\n",
       "        vertical-align: top;\n",
       "    }\n",
       "\n",
       "    .dataframe thead th {\n",
       "        text-align: right;\n",
       "    }\n",
       "</style>\n",
       "<table border=\"1\" class=\"dataframe\">\n",
       "  <thead>\n",
       "    <tr style=\"text-align: right;\">\n",
       "      <th></th>\n",
       "      <th>name</th>\n",
       "      <th>latitude</th>\n",
       "      <th>longitude</th>\n",
       "      <th>sand</th>\n",
       "      <th>clay</th>\n",
       "      <th>sand_soilgrids</th>\n",
       "      <th>clay_soilgrids</th>\n",
       "      <th>sand_polaris</th>\n",
       "      <th>clay_polaris</th>\n",
       "    </tr>\n",
       "  </thead>\n",
       "  <tbody>\n",
       "    <tr>\n",
       "      <th>0</th>\n",
       "      <td>Ashland Bottoms</td>\n",
       "      <td>39.125773</td>\n",
       "      <td>-96.636530</td>\n",
       "      <td>15.4</td>\n",
       "      <td>29.2</td>\n",
       "      <td>15.4</td>\n",
       "      <td>29.2</td>\n",
       "      <td>3.831753</td>\n",
       "      <td>32.519817</td>\n",
       "    </tr>\n",
       "    <tr>\n",
       "      <th>1</th>\n",
       "      <td>Belleville 2W</td>\n",
       "      <td>39.814090</td>\n",
       "      <td>-97.675093</td>\n",
       "      <td>9.9</td>\n",
       "      <td>35.6</td>\n",
       "      <td>9.9</td>\n",
       "      <td>35.6</td>\n",
       "      <td>7.110556</td>\n",
       "      <td>24.645983</td>\n",
       "    </tr>\n",
       "    <tr>\n",
       "      <th>2</th>\n",
       "      <td>Colby</td>\n",
       "      <td>39.392470</td>\n",
       "      <td>-101.068640</td>\n",
       "      <td>17.1</td>\n",
       "      <td>33.2</td>\n",
       "      <td>17.1</td>\n",
       "      <td>33.2</td>\n",
       "      <td>25.102043</td>\n",
       "      <td>19.496693</td>\n",
       "    </tr>\n",
       "  </tbody>\n",
       "</table>\n",
       "</div>"
      ],
      "text/plain": [
       "              name   latitude   longitude  sand  clay  sand_soilgrids  \\\n",
       "0  Ashland Bottoms  39.125773  -96.636530  15.4  29.2            15.4   \n",
       "1    Belleville 2W  39.814090  -97.675093   9.9  35.6             9.9   \n",
       "2            Colby  39.392470 -101.068640  17.1  33.2            17.1   \n",
       "\n",
       "   clay_soilgrids  sand_polaris  clay_polaris  \n",
       "0            29.2      3.831753     32.519817  \n",
       "1            35.6      7.110556     24.645983  \n",
       "2            33.2     25.102043     19.496693  "
      ]
     },
     "execution_count": 66,
     "metadata": {},
     "output_type": "execute_result"
    }
   ],
   "source": [
    "# Convert dictionary into a dataframe for easier visualization\n",
    "df = pd.DataFrame(stations)\n",
    "df.head(3)"
   ]
  },
  {
   "cell_type": "markdown",
   "id": "faa172ad-ee5c-4b02-89e8-840cef130837",
   "metadata": {},
   "source": [
    "## Create Figure\n",
    "\n",
    "Now that we have the data from both datasets, let compare them"
   ]
  },
  {
   "cell_type": "code",
   "execution_count": 79,
   "id": "b2777fc2-ba96-4fc3-8cf7-55c90cf0c722",
   "metadata": {},
   "outputs": [
    {
     "data": {
      "image/png": "[encoded data removed]",
      "text/plain": [
       "<Figure size 800x300 with 2 Axes>"
      ]
     },
     "metadata": {},
     "output_type": "display_data"
    }
   ],
   "source": [
    "plt.figure(figsize=(8,3))\n",
    "\n",
    "plt.subplot(1,2,1)\n",
    "plt.title('Sand 0-5 cm')\n",
    "plt.scatter(df['sand_soilgrids'], df['sand_polaris'],facecolor='w',edgecolor='k')\n",
    "plt.xlabel('Sand Soil Grids (%)')\n",
    "plt.ylabel('Sand Polaris (%)')\n",
    "plt.xlim([0,100])\n",
    "plt.ylim([0,100])\n",
    "plt.axline((0,0), slope=1, color='grey', linestyle=':')\n",
    "\n",
    "plt.subplot(1,2,2)\n",
    "plt.title('Clay 0-5 cm')\n",
    "plt.scatter(df['clay_soilgrids'], df['clay_polaris'],facecolor='w',edgecolor='k')\n",
    "plt.xlabel('Clay Soil Grids (%)')\n",
    "plt.ylabel('Clay Polaris (%)')\n",
    "plt.xlim([0,50])\n",
    "plt.ylim([0,50])\n",
    "plt.axline((0,0), slope=1, color='grey', linestyle=':')\n",
    "\n",
    "plt.subplots_adjust(wspace=0.4)\n",
    "plt.show()"
   ]
  },
  {
   "cell_type": "markdown",
   "id": "f6c13c4a-8bfc-4681-9d4e-af4845a5dd6e",
   "metadata": {},
   "source": [
    "## References\n",
    "\n",
    "- Poggio, L., De Sousa, L. M., Batjes, N. H., Heuvelink, G. B., Kempen, B., Ribeiro, E., & Rossiter, D. (2021). SoilGrids 2.0: producing soil information for the globe with quantified spatial uncertainty. Soil, 7(1), 217-240.\n",
    "\n",
    "- Parker, N., Kluitenberg, G. J., Redmond, C., & Patrignani, A. (2022). A database of soil physical properties for the Kansas Mesonet. Soil Science Society of America Journal, 86(6), 1495-1508. https://doi.org/10.1002/saj2.20465\n",
    "\n",
    "\n",
    "- Patrignani, A., Knapp, M., Redmond, C., & Santos, E. (2020). Technical overview of the Kansas Mesonet. Journal of Atmospheric and Oceanic Technology, 37(12), 2167-2183. https://doi.org/10.1175/JTECH-D-19-0214.1\n",
    "\n",
    "\n",
    "- Chaney, N. W., Minasny, B., Herman, J. D., Nauman, T. W., Brungard, C. W., Morgan, C. L., ... & Yimam, Y. (2019). POLARIS soil properties: 30‐m probabilistic maps of soil properties over the contiguous United States. Water Resources Research, 55(4), 2916-2938."
   ]
  }
 ],
 "metadata": {
  "kernelspec": {
   "display_name": "Python 3 (ipykernel)",
   "language": "python",
   "name": "python3"
  },
  "language_info": {
   "codemirror_mode": {
    "name": "ipython",
    "version": 3
   },
   "file_extension": ".py",
   "mimetype": "text/x-python",
   "name": "python",
   "nbconvert_exporter": "python",
   "pygments_lexer": "ipython3",
   "version": "3.10.9"
  }
 },
 "nbformat": 4,
 "nbformat_minor": 5
}

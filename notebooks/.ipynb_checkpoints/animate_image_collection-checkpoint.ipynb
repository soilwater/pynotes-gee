{
 "cells": [
  {
   "cell_type": "raw",
   "id": "88760fb8-2856-485f-90c4-9ad4b26ced34",
   "metadata": {},
   "source": [
    "---\n",
    "title: \"Animate image collection\"\n",
    "author: \"Andres Patrignani and Joaquin Peraza\"\n",
    "date: \"2/22/2024\"\n",
    "keywords: [\"gee\", \"image collection\", \"animation\", \"time series\"]\n",
    "---"
   ]
  },
  {
   "cell_type": "markdown",
   "id": "e89e6cba-4aa5-4751-a5b7-77805dddac41",
   "metadata": {},
   "source": [
    "When working with spatial data in the form of images spanning a period of time, animations are an effective way to showcase temporal and spatial changes across a region. Similar to a video, animations are composed of sequential frames and Google Earth Engine provides tools for creating and retrieving animations via URL. Alternatively, individual images can be downloaded for local processing, that enable the creation of animations using plotting libraries like Matplotlib. This tutorial focuses on the former approach, exploring how to leverage Google Earth Engine for creating an animation of changes in annual vegetation over the central U.S. Great Plains.\n"
   ]
  },
  {
   "cell_type": "code",
   "execution_count": 43,
   "id": "4e217c27-4fe6-4081-bae3-a8728f89f141",
   "metadata": {},
   "outputs": [],
   "source": [
    "# Import and initialize GEE\n",
    "import ee\n",
    "import glob\n",
    "import requests\n",
    "from datetime import datetime, timedelta"
   ]
  },
  {
   "cell_type": "code",
   "execution_count": 2,
   "id": "bd7e9f48-c519-4dc2-bcc7-52440dec18fb",
   "metadata": {},
   "outputs": [],
   "source": [
    "# Authenticated\n",
    "#ee.Authenticate()\n",
    "\n",
    "# Initialize\n",
    "ee.Initialize()"
   ]
  },
  {
   "cell_type": "markdown",
   "id": "bc14a94b-6fc9-437f-99c3-889104ba251d",
   "metadata": {},
   "source": [
    "## Animation in the cloud\n",
    "\n",
    "#### Define animation area"
   ]
  },
  {
   "cell_type": "code",
   "execution_count": 3,
   "id": "ed7b43af-7c8e-45a0-addb-24fe68981bc2",
   "metadata": {},
   "outputs": [],
   "source": [
    "# Define a rectangular region over the state of Kansas\n",
    "# Rectangle coordinates: xMin, yMin, xMax, yMax\n",
    "rect = ee.Geometry.Rectangle([[-102.5,36.5], [-94,40.5]]);\n"
   ]
  },
  {
   "cell_type": "code",
   "execution_count": 4,
   "id": "3cfe448b-5030-4dcd-8bd2-81351510c07d",
   "metadata": {},
   "outputs": [],
   "source": [
    "# Select state boundary\n",
    "# For countries you can use: FAO/GAUL_SIMPLIFIED_500m/2015/level1\n",
    "# A site with country codes: http://www.statoids.com/wab.html\n",
    "region = ee.FeatureCollection(\"TIGER/2018/States\").filter(ee.Filter.eq('NAME', 'Kansas'))\n"
   ]
  },
  {
   "cell_type": "markdown",
   "id": "030fce5f-5ac6-43b1-a2b4-65f852760a58",
   "metadata": {},
   "source": [
    "#### Retrieve vegetation product"
   ]
  },
  {
   "cell_type": "code",
   "execution_count": 5,
   "id": "4786f5e3-78e4-4b04-8108-0b86c7c6712b",
   "metadata": {},
   "outputs": [],
   "source": [
    "# Select a collection from the available dataset\n",
    "start_date = '2012-01-01'\n",
    "end_date = '2022-01-01'\n",
    "modis = ee.ImageCollection('MODIS/006/MOD13A2').filterDate(start_date, end_date)\n",
    "collection = modis.select('NDVI').map(lambda img: img.clip(region))\n"
   ]
  },
  {
   "cell_type": "markdown",
   "id": "1df50794-e4c9-4ef4-87fe-295ccb196cd6",
   "metadata": {},
   "source": [
    "#### Get day of the year for each image\n",
    "\n",
    "In this step we define a function that is applied to each image of the collection using the `map()` method. The function computes the day of the year based on the date, and adds this variable to each image as a property. Since each image of the collection remains the same, except that each image now includes the day of the year (`doy`), we overwrite the collection with the updated version of itself.\n"
   ]
  },
  {
   "cell_type": "code",
   "execution_count": 6,
   "id": "c334f8c2-7b69-40c3-91f6-79dc6e7b4c48",
   "metadata": {},
   "outputs": [],
   "source": [
    "# Define function\n",
    "def get_doy(img):\n",
    "    \"\"\"\n",
    "    Function that finds and adds the day of the year\n",
    "    to each image in the collection.\n",
    "    \"\"\"\n",
    "    doy = ee.Date(img.get('system:time_start')).getRelative('day', 'year')\n",
    "    return img.set('doy', doy)\n",
    "\n",
    "# Apply the function to each image of the collection using the .map() method\n",
    "collection = collection.map(get_doy)\n",
    "\n",
    "# The `doy` is added to the properties of each image\n",
    "# Use the following line to see the added property\n",
    "# collection.getInfo()"
   ]
  },
  {
   "cell_type": "code",
   "execution_count": 7,
   "id": "4f6e613d-b226-45c6-a305-9c8ff6330644",
   "metadata": {},
   "outputs": [],
   "source": [
    "# Filter the complete collection to a single year of data e.g. 2021.\n",
    "# We use one year as a dummy variable to compute the day of the year.\n",
    "unique_doy = collection.filterDate('2021-01-01', '2022-01-01')\n"
   ]
  },
  {
   "cell_type": "code",
   "execution_count": 8,
   "id": "c4f639af-835e-4d7d-88cf-d1805c791dc8",
   "metadata": {},
   "outputs": [],
   "source": [
    "# Define a filter that identifies which images from the complete collection\n",
    "# match the DOY of the unique DOY variable.\n",
    "# leftField == rightField\n",
    "filt = ee.Filter.equals(leftField='doy', rightField='doy')\n"
   ]
  },
  {
   "cell_type": "code",
   "execution_count": 9,
   "id": "5a8f46fb-57cc-4315-9c10-ea0aa98dbd41",
   "metadata": {},
   "outputs": [],
   "source": [
    "# Define a join.\n",
    "join = ee.Join.saveAll('doy_matches')\n",
    "\n",
    "# Apply the join and convert the resulting FeatureCollection to an ImageCollection.\n",
    "join_col = ee.ImageCollection(join.apply(unique_doy, collection, filt))\n"
   ]
  },
  {
   "cell_type": "markdown",
   "id": "d6553502-82e3-4da7-91c8-aa507163bfe2",
   "metadata": {},
   "source": [
    "#### Reduce all images for a given DOY pixel-wise."
   ]
  },
  {
   "cell_type": "code",
   "execution_count": 10,
   "id": "d3620f41-7f20-455e-9751-573727755ff4",
   "metadata": {},
   "outputs": [],
   "source": [
    "# Define median reducer for images of the same DOY\n",
    "def apply_median(img):\n",
    "    \"\"\"\n",
    "    Function that computes the pixel-wise median\n",
    "    for all images matching a given DOY\n",
    "    \"\"\"\n",
    "    doy_col = ee.ImageCollection.fromImages(img.get('doy_matches'))\n",
    "    return doy_col.reduce(ee.Reducer.median()).multiply(0.0001)\n",
    "\n",
    "# Apply function for each DOY and for all images matching a given DOY\n",
    "composite = join_col.map(apply_median)\n"
   ]
  },
  {
   "cell_type": "markdown",
   "id": "be35a246-f6a1-4bec-a7d7-67584032be47",
   "metadata": {},
   "source": [
    "#### Create animation"
   ]
  },
  {
   "cell_type": "code",
   "execution_count": 11,
   "id": "4caeb814-c74d-42cd-b624-2b43bf99c8ca",
   "metadata": {},
   "outputs": [],
   "source": [
    "# Define function that handles the visuals (paint adds the boundary, \n",
    "# which is a assigned a value (-0.1) relative to the other pixels (so a low value means red here).\n",
    "def animate(img):\n",
    "    cmap = ['black','FFFFFF', 'CE7E45', 'DF923D', 'F1B555', 'FCD163', '99B718', '74A901',\n",
    "        '66A000', '529400', '3E8601', '207401', '056201', '004C00', '023B01',\n",
    "        '012E01', '011D01', '011301']\n",
    "    frame = img.paint(region, -0.1, 2).visualize(min=-0.1, max=0.8, palette=cmap)\n",
    "    return frame\n",
    "\n",
    "# Map the function to each image\n",
    "animation = composite.map(animate)\n"
   ]
  },
  {
   "cell_type": "code",
   "execution_count": 12,
   "id": "8efd10e6-0261-4bfb-87da-3a6b143f67b4",
   "metadata": {},
   "outputs": [],
   "source": [
    "# Animation options\n",
    "animationOptions = {'region': rect,     # Selected region on the map\n",
    "                    'dimensions': 600,    # Size of the animation\n",
    "                    'crs': 'EPSG:3857',   # Coordinate reference system\n",
    "                    'framesPerSecond': 6  # Animation speed\n",
    "}"
   ]
  },
  {
   "cell_type": "code",
   "execution_count": 13,
   "id": "8042e3c5-c6c7-417a-afbd-7e7afd18db6b",
   "metadata": {},
   "outputs": [
    {
     "name": "stdout",
     "output_type": "stream",
     "text": [
      "https://earthengine.googleapis.com/v1alpha/projects/earthengine-legacy/videoThumbnails/dab1527ad8bdb39bc2937c68ffaa4f5a-444f7489b454a5e458a7b3773c598bee:getPixels\n"
     ]
    }
   ],
   "source": [
    "# Render the GIF animation in the console.\n",
    "print(animation.getVideoThumbURL(animationOptions))\n"
   ]
  },
  {
   "cell_type": "code",
   "execution_count": null,
   "id": "1e0b57a1-6896-4d83-8027-14e51e97fe15",
   "metadata": {},
   "outputs": [],
   "source": [
    "# Right click on the generated GIF image in the browser and select \"save image as\" to download it.\n"
   ]
  },
  {
   "cell_type": "markdown",
   "id": "8a22bd8c-ef2b-44bd-bb77-2fb6a4749e4d",
   "metadata": {},
   "source": [
    "## Animation in local disk\n",
    "\n",
    "This option requires downloading the images to the local drive and creating the animation ourselves, but it provides with the greatest flexibilty to edit the resulting animation."
   ]
  },
  {
   "cell_type": "code",
   "execution_count": 106,
   "id": "063fb572-43e5-4eac-8d48-4826cbcdfe07",
   "metadata": {},
   "outputs": [],
   "source": [
    "# Import additional modules\n",
    "import xarray as xr\n",
    "import matplotlib.pyplot as plt\n",
    "import matplotlib.animation as animation\n",
    "from matplotlib import colors\n"
   ]
  },
  {
   "cell_type": "code",
   "execution_count": 104,
   "id": "1ffdad00-ab9d-42d5-962a-639b2df021b7",
   "metadata": {},
   "outputs": [],
   "source": [
    "# Define function to save images to the local drive \n",
    "def save_geotiff(ee_image, filename, crs, scale, geom, bands=[]):\n",
    "    \"\"\"\n",
    "    Function to save images from Google Earth Engine into local hard drive.\n",
    "    \"\"\"\n",
    "    image_url = ee_image.getDownloadUrl({'region': geom,'scale':scale, \n",
    "                                         'bands': bands,\n",
    "                                         'crs': f'EPSG:{crs}', \n",
    "                                         'format': 'GEO_TIFF'})\n",
    "    \n",
    "    # Request data using URL and save data as a new GeoTiff file\n",
    "    response = requests.get(image_url)\n",
    "    with open(filename, 'wb') as f:\n",
    "        f.write(response.content)\n",
    "        return print(f\"Saved image {filename}\")"
   ]
  },
  {
   "cell_type": "code",
   "execution_count": 100,
   "id": "0ed20fd3-70fb-4d2a-9a2b-3db18b4b6191",
   "metadata": {},
   "outputs": [],
   "source": [
    "# Select \n",
    "region = ee.FeatureCollection(\"TIGER/2018/States\").filter(ee.Filter.eq('NAME', 'Kansas'))\n",
    "\n",
    "# Create mask\n",
    "mask = ee.Image.constant(1).clip(region).mask()"
   ]
  },
  {
   "cell_type": "code",
   "execution_count": 125,
   "id": "c7fbc942-eb16-4970-a7fb-105cb62e33b3",
   "metadata": {},
   "outputs": [
    {
     "name": "stdout",
     "output_type": "stream",
     "text": [
      "['2012-01-01', '2012-01-17', '2012-02-02', '2012-02-18', '2012-03-05', '2012-03-21', '2012-04-06', '2012-04-22', '2012-05-08', '2012-05-24', '2012-06-09', '2012-06-25', '2012-07-11', '2012-07-27', '2012-08-12', '2012-08-28', '2012-09-13', '2012-09-29', '2012-10-15', '2012-10-31', '2012-11-16', '2012-12-02', '2012-12-18']\n"
     ]
    }
   ],
   "source": [
    "# Define the time range\n",
    "start_date = '2012-01-01'\n",
    "end_date = '2012-12-31'\n",
    "\n",
    "# Select MODIS Terra Vegetation Indices 16-Day Global 1km\n",
    "modis = ee.ImageCollection(\"MODIS/061/MOD13A2\").filterDate(start_date, end_date)\n",
    "collection = modis.select('NDVI')\n",
    "\n",
    "# Get the list of available image dates\n",
    "get_date = lambda image: ee.Image(image).date().format('YYYY-MM-dd')\n",
    "\n",
    "dates = collection.toList(collection.size()).map(get_date).getInfo()\n",
    "print(dates)\n"
   ]
  },
  {
   "cell_type": "code",
   "execution_count": 127,
   "id": "2a03d3f8-d9a7-4a97-bf20-85cd14a19301",
   "metadata": {},
   "outputs": [],
   "source": [
    "gif_folder = '../outputs/gif_files'\n",
    "if not glob.os.path.isdir(gif_folder):\n",
    "    glob.os.mkdir(gif_folder)"
   ]
  },
  {
   "cell_type": "code",
   "execution_count": 145,
   "id": "e0ef9776-72c5-498e-89c7-c1028d7359ab",
   "metadata": {},
   "outputs": [
    {
     "name": "stdout",
     "output_type": "stream",
     "text": [
      "Saved image ../outputs/gif_files/ndvi_2012-01-01.tiff\n",
      "Saved image ../outputs/gif_files/ndvi_2012-01-17.tiff\n",
      "Saved image ../outputs/gif_files/ndvi_2012-02-02.tiff\n",
      "Saved image ../outputs/gif_files/ndvi_2012-02-18.tiff\n",
      "Saved image ../outputs/gif_files/ndvi_2012-03-05.tiff\n",
      "Saved image ../outputs/gif_files/ndvi_2012-03-21.tiff\n",
      "Saved image ../outputs/gif_files/ndvi_2012-04-06.tiff\n",
      "Saved image ../outputs/gif_files/ndvi_2012-04-22.tiff\n",
      "Saved image ../outputs/gif_files/ndvi_2012-05-08.tiff\n",
      "Saved image ../outputs/gif_files/ndvi_2012-05-24.tiff\n",
      "Saved image ../outputs/gif_files/ndvi_2012-06-09.tiff\n",
      "Saved image ../outputs/gif_files/ndvi_2012-06-25.tiff\n",
      "Saved image ../outputs/gif_files/ndvi_2012-07-11.tiff\n",
      "Saved image ../outputs/gif_files/ndvi_2012-07-27.tiff\n",
      "Saved image ../outputs/gif_files/ndvi_2012-08-12.tiff\n",
      "Saved image ../outputs/gif_files/ndvi_2012-08-28.tiff\n",
      "Saved image ../outputs/gif_files/ndvi_2012-09-13.tiff\n",
      "Saved image ../outputs/gif_files/ndvi_2012-09-29.tiff\n",
      "Saved image ../outputs/gif_files/ndvi_2012-10-15.tiff\n",
      "Saved image ../outputs/gif_files/ndvi_2012-10-31.tiff\n",
      "Saved image ../outputs/gif_files/ndvi_2012-11-16.tiff\n",
      "Saved image ../outputs/gif_files/ndvi_2012-12-02.tiff\n",
      "Saved image ../outputs/gif_files/ndvi_2012-12-18.tiff\n"
     ]
    }
   ],
   "source": [
    "for date in dates:\n",
    "    start_date = date\n",
    "    end_date = (datetime.strptime(start_date, '%Y-%m-%d') + timedelta(days=1)).strftime('%Y-%m-%d')\n",
    "    ndvi_img = ee.ImageCollection('MODIS/006/MOD13A2').filterDate(start_date, end_date).first()\n",
    "    ndvi_img = ndvi_img.multiply(0.0001).clip(region).mask(mask)\n",
    "    \n",
    "    filename = f\"{gif_folder}/ndvi_{date}.tiff\"\n",
    "    save_geotiff(ndvi_img, filename, crs=4326, scale=1000, geom=region.geometry(), bands=['NDVI'])"
   ]
  },
  {
   "cell_type": "raw",
   "id": "1dbc1e88-d312-4895-8885-adc71b17d82c",
   "metadata": {},
   "source": [
    "::: {.callout-note}\n",
    "## Note\n",
    "In the method `.filterDate(start_date, end_date)` the start date is inclusive, but the end date is exclusive.\n",
    ":::"
   ]
  },
  {
   "cell_type": "code",
   "execution_count": 146,
   "id": "c3e5a1ea-2df6-4ae8-90b9-a197dd241ba2",
   "metadata": {},
   "outputs": [],
   "source": [
    "# Read the list of images\n",
    "images = glob.glob(f\"{gif_folder}/*.tiff\")\n",
    "images.sort()\n"
   ]
  },
  {
   "cell_type": "code",
   "execution_count": 157,
   "id": "64662d7a-a54c-4480-a155-4170a585c1bb",
   "metadata": {},
   "outputs": [],
   "source": [
    "# Paletter of colors for the Enhanced Vegetation Index\n",
    "hex_palette = ['#FF69B4','#CE7E45', '#DF923D', '#F1B555', '#FCD163', '#99B718', '#74A901',\n",
    "             '#66A000', '#529400', '#3E8601', '#207401', '#056201', '#004C00', '#023B01',\n",
    "             '#012E01', '#011D01', '#011301']\n",
    "\n",
    "# Use the built-in ListedColormap function to do the conversion\n",
    "cmap = colors.ListedColormap(hex_palette)\n"
   ]
  },
  {
   "cell_type": "raw",
   "id": "e16528e3-b72c-4f99-a355-628d0a0b12d6",
   "metadata": {},
   "source": [
    "::: {.callout-note}\n",
    "## Colormap note\n",
    "\n",
    "The first color of the palette is hot pink ('#FF69B4'). The color was added to represent the lowest NDVI values, which are typically caused by snow on the ground during winter months.\n",
    ":::"
   ]
  },
  {
   "cell_type": "code",
   "execution_count": 159,
   "id": "7e90d1b4-0fd7-4573-8539-68e861a33410",
   "metadata": {},
   "outputs": [
    {
     "data": {
      "text/plain": [
       "<Figure size 640x480 with 0 Axes>"
      ]
     },
     "metadata": {},
     "output_type": "display_data"
    }
   ],
   "source": [
    "# Create figure\n",
    "fig, ax = plt.subplots(figsize=(6,3))\n",
    "\n",
    "# Leave a bit more room at the bottom to avoid cutting the xlabel\n",
    "fig.subplots_adjust(bottom=0.15)\n",
    "\n",
    "# Create figure with axes and colorbar, which will remain fixed.\n",
    "raster.plot.imshow(ax=ax, cmap=cmap, add_colorbar=True, \n",
    "                   cbar_kwargs={'label':'NDVI'},vmin=0, vmax=0.8)\n",
    "\n",
    "def animate(index):\n",
    "    \"\"\"\n",
    "    Function that creates each frame.\n",
    "    \"\"\"\n",
    "    \n",
    "    # Read geotiff image with xarray\n",
    "    raster = xr.open_dataarray(images[index]).squeeze()\n",
    "    \n",
    "    # Clear axes and draw new objects (without colorbar)\n",
    "    # Force vmin and vmax to keep the same range of values as the colorbar\n",
    "    ax.clear()\n",
    "    raster.plot.imshow(ax=ax, cmap=cmap, add_colorbar=False, vmin=0, vmax=0.8)\n",
    "    ax.set_title(images[index][-15:-5])\n",
    "    ax.set_xlabel('Longitude')\n",
    "    ax.set_ylabel('Latitude')\n",
    "    plt.tight_layout()\n",
    "\n",
    "    return ax\n",
    "\n",
    "# Avoid displaying the first figure\n",
    "plt.close()\n",
    "\n",
    "# Save animation as .gif\n",
    "ani = animation.FuncAnimation(fig, animate, len(images),interval=500)\n",
    "ani.save('../outputs/ndvi_animation.gif', writer='pillow') \n"
   ]
  },
  {
   "cell_type": "markdown",
   "id": "3a32a917-a767-4182-b00b-d2a1d0a8840f",
   "metadata": {},
   "source": [
    "Here is the resulting gif. Note that during the winter the image occasionally shows some areas with snow on the ground (look for reddish patches). You can display it in your notebook using the following html code:\n",
    "\n",
    "```html\n",
    "<img src=\"../outputs/ndvi_animation.gif\" alt=\"drawing\" width=\"650\"/>\n",
    "```"
   ]
  },
  {
   "cell_type": "markdown",
   "id": "d279c07d-a826-4df5-bb76-77b332dda03c",
   "metadata": {},
   "source": [
    "<img src=\"../outputs/ndvi_animation.gif\" alt=\"drawing\" width=\"650\"/>"
   ]
  }
 ],
 "metadata": {
  "kernelspec": {
   "display_name": "Python 3 (ipykernel)",
   "language": "python",
   "name": "python3"
  },
  "language_info": {
   "codemirror_mode": {
    "name": "ipython",
    "version": 3
   },
   "file_extension": ".py",
   "mimetype": "text/x-python",
   "name": "python",
   "nbconvert_exporter": "python",
   "pygments_lexer": "ipython3",
   "version": "3.10.9"
  }
 },
 "nbformat": 4,
 "nbformat_minor": 5
}

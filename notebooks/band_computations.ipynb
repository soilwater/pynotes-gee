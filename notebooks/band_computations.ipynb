{
 "cells": [
  {
   "cell_type": "raw",
   "id": "87acb1a6-f7a2-40ea-b60a-013968c1d411",
   "metadata": {},
   "source": [
    "---\n",
    "title: \"Band computations\"\n",
    "author: \"Andres Patrignani\"\n",
    "date: \"3/17/2024\"\n",
    "keywords: [\"gee\", \"image\", \"bands\", \"computations\",\"ndvi\"]\n",
    "---"
   ]
  },
  {
   "cell_type": "markdown",
   "id": "aaa1a734-c6c5-480e-a36e-636b459e8bb8",
   "metadata": {},
   "source": [
    "Active and passive remote sensors onboard orbitting satellites usually collect multiple spectral bands. The combination of several of these bands can often be used to characterize land surface features, like vegetation, water bodies, and wildfires.\n",
    "\n",
    "In this example we will use the red and near infrared bands from Sentinel 2 satellite of the European Space Agency to compute the normalized difference vegetation index at 10-meter spatial resolution for a production field in Argentina."
   ]
  },
  {
   "cell_type": "code",
   "execution_count": 1,
   "id": "b6f18ad6-d7cb-423a-96ad-f48cb04169a2",
   "metadata": {},
   "outputs": [],
   "source": [
    "# Import modules\n",
    "import ee\n",
    "import json\n",
    "import requests\n",
    "import matplotlib.pyplot as plt\n",
    "from matplotlib import colors\n",
    "import xarray as xr\n",
    "import pandas as pd\n"
   ]
  },
  {
   "cell_type": "code",
   "execution_count": 2,
   "id": "47cdcdc4-eaea-4a59-8595-2b61ea3fb19e",
   "metadata": {},
   "outputs": [],
   "source": [
    "# Authenticate\n",
    "#ee.Authenticate()\n",
    "\n",
    "# Initialize API\n",
    "ee.Initialize()\n"
   ]
  },
  {
   "cell_type": "code",
   "execution_count": 4,
   "id": "c54e2888-dd00-44af-81ca-0773b90572a2",
   "metadata": {},
   "outputs": [],
   "source": [
    "# Import boundary for area of interest (aoi)\n",
    "with open('../datasets/field_bnd_carmen.geojson') as file:\n",
    "    aoi_json = json.load(file)\n",
    "\n",
    "# Define the ee.Geometry\n",
    "aoi = ee.Geometry(aoi_json['features'][0]['geometry'])\n",
    "\n",
    "# Create mask for field\n",
    "mask = ee.Image.constant(1).clip(aoi).mask()\n"
   ]
  },
  {
   "cell_type": "code",
   "execution_count": 5,
   "id": "9731bfbd-d7d9-4b18-950f-917c943c9899",
   "metadata": {},
   "outputs": [],
   "source": [
    "# Define start and end dates\n",
    "start_date = '2023-01-10'\n",
    "end_date = '2023-01-30'\n"
   ]
  },
  {
   "cell_type": "code",
   "execution_count": 6,
   "id": "5354b180-1021-4aa2-a8c5-b68f9265572d",
   "metadata": {},
   "outputs": [],
   "source": [
    "# Load Sentinel-2 image collection\n",
    "S2 = ee.ImageCollection('COPERNICUS/S2') \\\n",
    "                .filterDate(start_date, end_date) \\\n",
    "                .filterBounds(aoi) \\\n",
    "                .filter(ee.Filter.lt('CLOUDY_PIXEL_PERCENTAGE', 20)) \\\n",
    "                .select(['B8', 'B4'])  # B8 is NIR, B4 is Red"
   ]
  },
  {
   "cell_type": "code",
   "execution_count": 7,
   "id": "21d5c9a4-1567-4b07-b260-659e0df9e3bf",
   "metadata": {},
   "outputs": [],
   "source": [
    "# Print the following line to explore the selected images\n",
    "#S2.getInfo()['features']"
   ]
  },
  {
   "cell_type": "code",
   "execution_count": 8,
   "id": "62705d4f-0009-475f-baee-5772128d0653",
   "metadata": {},
   "outputs": [],
   "source": [
    "def calculate_ndvi(image):\n",
    "    \"\"\"\n",
    "    Function to calculate NDVI for a single image.\n",
    "    \"\"\"\n",
    "    ndvi = image.normalizedDifference(['B8', 'B4']).rename('NDVI')\n",
    "    return image.addBands(ndvi)\n",
    "\n",
    "# Apply the NDVI function to each image in the collection\n",
    "ndvi_collection = S2.map(calculate_ndvi)\n"
   ]
  },
  {
   "cell_type": "code",
   "execution_count": 9,
   "id": "6a5c8435-a087-4c3f-9aa3-8754c2b76b83",
   "metadata": {},
   "outputs": [],
   "source": [
    "# Apply the function to add mean NDVI as a property\n",
    "ndvi_mean = ndvi_collection.reduce(ee.Reducer.mean())\n",
    "\n",
    "# Mask ndvi image\n",
    "ndvi_mean = ndvi_mean.mask(mask)\n"
   ]
  },
  {
   "cell_type": "code",
   "execution_count": 10,
   "id": "8073b92f-fe96-4542-9f1c-86a85ea79a88",
   "metadata": {},
   "outputs": [
    {
     "data": {
      "text/plain": [
       "{'type': 'Image',\n",
       " 'bands': [{'id': 'NDVI_mean',\n",
       "   'data_type': {'type': 'PixelType',\n",
       "    'precision': 'float',\n",
       "    'min': -1,\n",
       "    'max': 1},\n",
       "   'crs': 'EPSG:4326',\n",
       "   'crs_transform': [1, 0, 0, 0, 1, 0]}]}"
      ]
     },
     "execution_count": 10,
     "metadata": {},
     "output_type": "execute_result"
    }
   ],
   "source": [
    "# Inspect resulting image (note the the new band is \"NDVI_mean\"\n",
    "ndvi_mean.select('NDVI_mean').getInfo()"
   ]
  },
  {
   "cell_type": "code",
   "execution_count": 11,
   "id": "1e3d6645-0b7b-4a1a-b0bc-6c6382cad155",
   "metadata": {},
   "outputs": [],
   "source": [
    "# Get url link for image\n",
    "image_url = ndvi_mean.getDownloadUrl({'region': aoi,'scale':10,\n",
    "                                      'bands':['NDVI_mean'],\n",
    "                                     'crs': 'EPSG:4326', \n",
    "                                     'format': 'GEO_TIFF'})\n",
    "    \n",
    "# Request data using URL and save data as a new GeoTiff file\n",
    "response = requests.get(image_url)\n",
    "\n",
    "# Save geotiff image to local drive\n",
    "filename = '../outputs/field_carmen_ndvi.tiff'\n",
    "with open(filename, 'wb') as f:\n",
    "    f.write(response.content)\n"
   ]
  },
  {
   "cell_type": "code",
   "execution_count": 12,
   "id": "f3d6fae2-524b-4792-81e5-c8e535493531",
   "metadata": {},
   "outputs": [],
   "source": [
    "# Read saved geotiff image from local drive\n",
    "ndvi_raster = xr.open_dataarray(filename).squeeze()\n"
   ]
  },
  {
   "cell_type": "code",
   "execution_count": 13,
   "id": "fe1eabc4-27df-4501-811b-faf5197bbd64",
   "metadata": {},
   "outputs": [
    {
     "data": {
      "text/html": [
       "<div>\n",
       "<style scoped>\n",
       "    .dataframe tbody tr th:only-of-type {\n",
       "        vertical-align: middle;\n",
       "    }\n",
       "\n",
       "    .dataframe tbody tr th {\n",
       "        vertical-align: top;\n",
       "    }\n",
       "\n",
       "    .dataframe thead th {\n",
       "        text-align: right;\n",
       "    }\n",
       "</style>\n",
       "<table border=\"1\" class=\"dataframe\">\n",
       "  <thead>\n",
       "    <tr style=\"text-align: right;\">\n",
       "      <th></th>\n",
       "      <th>lon</th>\n",
       "      <th>lat</th>\n",
       "    </tr>\n",
       "  </thead>\n",
       "  <tbody>\n",
       "    <tr>\n",
       "      <th>0</th>\n",
       "      <td>-61.792900</td>\n",
       "      <td>-33.750588</td>\n",
       "    </tr>\n",
       "    <tr>\n",
       "      <th>1</th>\n",
       "      <td>-61.790372</td>\n",
       "      <td>-33.753893</td>\n",
       "    </tr>\n",
       "    <tr>\n",
       "      <th>2</th>\n",
       "      <td>-61.784847</td>\n",
       "      <td>-33.750976</td>\n",
       "    </tr>\n",
       "  </tbody>\n",
       "</table>\n",
       "</div>"
      ],
      "text/plain": [
       "         lon        lat\n",
       "0 -61.792900 -33.750588\n",
       "1 -61.790372 -33.753893\n",
       "2 -61.784847 -33.750976"
      ]
     },
     "execution_count": 13,
     "metadata": {},
     "output_type": "execute_result"
    }
   ],
   "source": [
    "df = pd.DataFrame(aoi_json['features'][0]['geometry']['coordinates'][0])\n",
    "df.columns = ['lon','lat']\n",
    "df.head(3)\n"
   ]
  },
  {
   "cell_type": "code",
   "execution_count": 14,
   "id": "994ec1f9-56d1-4c2e-86c8-581135dd7e02",
   "metadata": {},
   "outputs": [],
   "source": [
    "# Create colormap\n",
    "hex_palette = ['#FEFEFE','#CE7E45', '#DF923D', '#F1B555', '#FCD163', '#99B718', '#74A901',\n",
    "             '#66A000', '#529400', '#3E8601', '#207401', '#056201', '#004C00', '#023B01',\n",
    "             '#012E01', '#011D01', '#011301']\n",
    "\n",
    "# Use the built-in ListedColormap function to do the conversion\n",
    "rgb_cmap = colors.ListedColormap(hex_palette)\n"
   ]
  },
  {
   "cell_type": "code",
   "execution_count": 15,
   "id": "d1e1482f-3580-4bc9-bd4e-90217d895133",
   "metadata": {},
   "outputs": [
    {
     "data": {
      "image/png": "[encoded data removed]",
      "text/plain": [
       "<Figure size 600x300 with 2 Axes>"
      ]
     },
     "metadata": {},
     "output_type": "display_data"
    }
   ],
   "source": [
    "# Create figure\n",
    "ndvi_raster.plot.imshow(figsize=(6,3), cmap=rgb_cmap, add_colorbar=True,\n",
    "                   cbar_kwargs={'label':'NDVI'})\n",
    "\n",
    "plt.plot(df['lon'], df['lat'],'-k')\n",
    "plt.title('Field NDVI')\n",
    "plt.xlabel('Longitude')\n",
    "plt.ylabel('Latitude')\n",
    "plt.tight_layout()\n",
    "plt.show()"
   ]
  },
  {
   "cell_type": "code",
   "execution_count": null,
   "id": "da82d10d-d6f8-4a4b-a9d2-48dba3376619",
   "metadata": {},
   "outputs": [],
   "source": []
  }
 ],
 "metadata": {
  "kernelspec": {
   "display_name": "Python 3 (ipykernel)",
   "language": "python",
   "name": "python3"
  },
  "language_info": {
   "codemirror_mode": {
    "name": "ipython",
    "version": 3
   },
   "file_extension": ".py",
   "mimetype": "text/x-python",
   "name": "python",
   "nbconvert_exporter": "python",
   "pygments_lexer": "ipython3",
   "version": "3.10.9"
  }
 },
 "nbformat": 4,
 "nbformat_minor": 5
}
